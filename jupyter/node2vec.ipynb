{
 "cells": [
  {
   "cell_type": "code",
   "execution_count": 6,
   "id": "37f47e1a",
   "metadata": {},
   "outputs": [],
   "source": [
    "import json\n",
    "import networkx as nx\n",
    "import os"
   ]
  },
  {
   "cell_type": "code",
   "execution_count": null,
   "id": "7074ab77",
   "metadata": {},
   "outputs": [],
   "source": [
    "graph = nx.Graph()\n",
    "\n",
    "def build_graph_from_json_file(filepath):\n",
    "    \n",
    "    with open(filepath, 'r') as file:\n",
    "        data = json.load(file)\n",
    "        \n",
    "    graph = nx.Graph()\n",
    "    package_name = os.path.basename(filepath).split('.')[0]\n",
    "    graph.add_node(package_name)\n",
    "\n",
    "    for dependency in data[\"dependencies\"]:\n",
    "        dep_name = dependency[\"package\"]\n",
    "        graph.add_node(dep_name)\n",
    "        graph.add_edge(package_name, dep_name)\n",
    "    \n",
    "    return graph\n",
    "\n",
    "for json_file in os.listdir('../doku/releases'):\n",
    "    file_path = os.path.join('../doku/releases', json_file)\n",
    "    subgraph = build_graph_from_json_file(file_path)\n",
    "    graph = nx.compose(graph, subgraph)"
   ]
  },
  {
   "cell_type": "code",
   "execution_count": 57,
   "id": "adb4a6dd",
   "metadata": {},
   "outputs": [
    {
     "name": "stdout",
     "output_type": "stream",
     "text": [
      "Graph with 14577 nodes and 24936 edges\n"
     ]
    }
   ],
   "source": [
    "print(graph)"
   ]
  },
  {
   "cell_type": "code",
   "execution_count": 14,
   "id": "376fef7e",
   "metadata": {},
   "outputs": [],
   "source": [
    "from node2vec import Node2Vec"
   ]
  },
  {
   "cell_type": "code",
   "execution_count": 60,
   "id": "20292a59",
   "metadata": {},
   "outputs": [
    {
     "data": {
      "application/vnd.jupyter.widget-view+json": {
       "model_id": "69ef8860720446768a4178dc77ff1a65",
       "version_major": 2,
       "version_minor": 0
      },
      "text/plain": [
       "Computing transition probabilities:   0%|          | 0/14577 [00:00<?, ?it/s]"
      ]
     },
     "metadata": {},
     "output_type": "display_data"
    },
    {
     "name": "stderr",
     "output_type": "stream",
     "text": [
      "Generating walks (CPU: 1): 100%|██████████| 50/50 [07:29<00:00,  8.99s/it]\n",
      "Generating walks (CPU: 2): 100%|██████████| 50/50 [07:29<00:00,  8.98s/it]\n",
      "Generating walks (CPU: 3): 100%|██████████| 50/50 [07:27<00:00,  8.96s/it]\n",
      "Generating walks (CPU: 4): 100%|██████████| 50/50 [07:29<00:00,  8.98s/it]\n"
     ]
    }
   ],
   "source": [
    "node2vec = Node2Vec(graph, dimensions=64, walk_length=30, num_walks=200, workers=4)"
   ]
  },
  {
   "cell_type": "code",
   "execution_count": 61,
   "id": "86d217e0",
   "metadata": {},
   "outputs": [],
   "source": [
    "model = node2vec.fit(window=10, min_count=1, batch_words=4)"
   ]
  },
  {
   "cell_type": "code",
   "execution_count": 62,
   "id": "3cb4323f",
   "metadata": {},
   "outputs": [
    {
     "data": {
      "text/plain": [
       "array([ 0.03047263, -0.20463394, -0.0277075 , -0.03843872, -0.01339973,\n",
       "       -0.2515752 ,  0.24339251, -0.1508195 , -0.5072062 ,  0.56847715,\n",
       "        0.21083727,  0.18546042, -0.17352657, -0.42935583,  0.1894547 ,\n",
       "        0.05550739, -0.30858368,  0.02045539, -0.37210184,  0.04115997,\n",
       "        0.45696118,  0.07119154, -0.12255816, -0.2584199 , -0.02092515,\n",
       "        0.09527466, -0.47741055, -0.7302886 ,  0.40823767, -0.24472226,\n",
       "       -0.19681983, -0.03465886,  0.2884595 , -0.3982887 , -0.27729315,\n",
       "       -0.11579079,  0.20039761,  0.3759723 , -0.30424842, -0.05449288,\n",
       "        0.0329129 ,  0.42536002, -0.12495282, -0.11004556,  0.14884827,\n",
       "        0.09128992,  0.09284161, -0.20403126,  0.28083038,  0.33326608,\n",
       "        0.18805982, -0.15879045,  0.28900728, -0.11530187,  0.21019106,\n",
       "        0.73954374,  0.19320759,  0.06515587, -0.06764857,  0.27834067,\n",
       "       -0.2270348 , -0.16133091, -0.41235122, -0.13329707], dtype=float32)"
      ]
     },
     "execution_count": 62,
     "metadata": {},
     "output_type": "execute_result"
    }
   ],
   "source": [
    "model.wv['phoenix']"
   ]
  },
  {
   "cell_type": "code",
   "execution_count": 19,
   "id": "206f73b5",
   "metadata": {},
   "outputs": [],
   "source": [
    "from sklearn.metrics.pairwise import cosine_similarity"
   ]
  },
  {
   "cell_type": "code",
   "execution_count": 63,
   "id": "d2afb133",
   "metadata": {},
   "outputs": [
    {
     "data": {
      "text/plain": [
       "array([[0.28636217]], dtype=float32)"
      ]
     },
     "execution_count": 63,
     "metadata": {},
     "output_type": "execute_result"
    }
   ],
   "source": [
    "cosine_similarity([model.wv['jason']], [model.wv['benchee']])"
   ]
  },
  {
   "cell_type": "code",
   "execution_count": 64,
   "id": "3a88eb90",
   "metadata": {},
   "outputs": [
    {
     "data": {
      "text/plain": [
       "array([[0.6414313]], dtype=float32)"
      ]
     },
     "execution_count": 64,
     "metadata": {},
     "output_type": "execute_result"
    }
   ],
   "source": [
    "cosine_similarity([model.wv['phoenix']], [model.wv['phoenix_ecto']])"
   ]
  },
  {
   "cell_type": "code",
   "execution_count": 83,
   "id": "2a4469f7",
   "metadata": {},
   "outputs": [
    {
     "data": {
      "text/plain": [
       "array([[0.62679625]], dtype=float32)"
      ]
     },
     "execution_count": 83,
     "metadata": {},
     "output_type": "execute_result"
    }
   ],
   "source": [
    "cosine_similarity([model.wv['tailwind']], [model.wv['phoenix_live_view']])"
   ]
  },
  {
   "cell_type": "code",
   "execution_count": 50,
   "id": "c6fd1d8f",
   "metadata": {},
   "outputs": [
    {
     "name": "stdout",
     "output_type": "stream",
     "text": [
      "Total unique package names: 14573\n",
      "Total unique dependencies: 3000\n",
      "Total unique packages + dependencies: 14577\n"
     ]
    }
   ],
   "source": [
    "all_packages = set()\n",
    "all_dependencies = set()\n",
    "\n",
    "for json_file in os.listdir('../doku/releases'):\n",
    "    file_path = os.path.join('../doku/releases', json_file)\n",
    "    package_name = os.path.basename(file_path).split('.')[0]\n",
    "    all_packages.add(package_name)\n",
    "\n",
    "    with open(file_path, 'r') as file:\n",
    "        data = json.load(file)\n",
    "        \n",
    "    for dependency in data[\"dependencies\"]:\n",
    "        all_dependencies.add(dependency[\"package\"])\n",
    "\n",
    "all_unique_names = all_packages.union(all_dependencies)\n",
    "\n",
    "print(f\"Total unique package names: {len(all_packages)}\")\n",
    "print(f\"Total unique dependencies: {len(all_dependencies)}\")\n",
    "print(f\"Total unique packages + dependencies: {len(all_unique_names)}\")"
   ]
  }
 ],
 "metadata": {
  "kernelspec": {
   "display_name": "Python 3 (ipykernel)",
   "language": "python",
   "name": "python3"
  },
  "language_info": {
   "codemirror_mode": {
    "name": "ipython",
    "version": 3
   },
   "file_extension": ".py",
   "mimetype": "text/x-python",
   "name": "python",
   "nbconvert_exporter": "python",
   "pygments_lexer": "ipython3",
   "version": "3.11.4"
  }
 },
 "nbformat": 4,
 "nbformat_minor": 5
}
